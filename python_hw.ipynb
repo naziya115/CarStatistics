{
  "nbformat": 4,
  "nbformat_minor": 0,
  "metadata": {
    "colab": {
      "provenance": [],
      "authorship_tag": "ABX9TyOPqdGIACW+MMxOvTpaO+AV",
      "include_colab_link": true
    },
    "kernelspec": {
      "name": "python3",
      "display_name": "Python 3"
    },
    "language_info": {
      "name": "python"
    }
  },
  "cells": [
    {
      "cell_type": "markdown",
      "metadata": {
        "id": "view-in-github",
        "colab_type": "text"
      },
      "source": [
        "<a href=\"https://colab.research.google.com/github/naziya115/CarStatistics/blob/main/python_hw.ipynb\" target=\"_parent\"><img src=\"https://colab.research.google.com/assets/colab-badge.svg\" alt=\"Open In Colab\"/></a>"
      ]
    },
    {
      "cell_type": "code",
      "source": [
        "\n",
        "cars = [\n",
        "{'mark': 'toyota', 'model': 'camry', 'year': 2010, 'price': 15000, 'id': 1},\n",
        "{'mark': 'nissan', 'model': 'qashqai', 'year': 2019, 'price': 27300, 'id': 2},\n",
        " {'mark': 'toyota', 'model': 'corolla', 'year': 2011, 'price': 14000, 'id': 3},\n",
        " {'mark': 'bmw', 'model': '7', 'year': 2017, 'price': 19500, 'id': 4},\n",
        "{'mark': 'toyota', 'model': 'camry', 'year': 2019, 'price': 31000, 'id': 5},\n",
        "{'mark': 'bmw', 'model': '7', 'year': 2015, 'price': 18000, 'id': 6},\n",
        "{'mark': 'toyota', 'model': 'corolla', 'year': 2011, 'price': 15000, 'id': 7},\n",
        "{'mark': 'nissan', 'model': 'qashqai', 'year': 2014, 'price': 17000, 'id': 8},\n",
        "{'mark': 'bmw', 'model': '5', 'year': 2010, 'price': 9000, 'id': 9},\n",
        "{'mark': 'toyota', 'model': 'camry', 'year': 2010, 'price': 16000, 'id': 10},\n",
        "{'mark': 'bmw', 'model': '7', 'year': 2015, 'price': 18000, 'id': 11},\n",
        "{'mark': 'nissan',\n",
        "'model': 'qashqai',\n",
        "'year': 2014,\n",
        "'price': 17300,\n",
        "'id': 12},\n",
        "{'mark': 'toyota', 'model': 'camry', 'year': 2021, 'price': 33500, 'id': 13},\n",
        "{'mark': 'bmw', 'model': '5', 'year': 2008, 'price': 10000, 'id': 14},\n",
        "{'mark': 'nissan',\n",
        "'model': 'qashqai',\n",
        "'year': 2015,\n",
        "'price': 17300,\n",
        "'id': 15},\n",
        "{'mark': 'toyota', 'model': 'camry', 'year': 2002, 'price': 6400, 'id': 16},\n",
        "{'mark': 'toyota',\n",
        "'model': 'corolla',\n",
        "'year': 2013,\n",
        "'price': 14900,\n",
        "'id': 17},\n",
        "{'mark': 'bmw', 'model': '7', 'year': 2015, 'price': 18000, 'id': 18},\n",
        "{'mark': 'toyota',\n",
        "'model': 'corolla',\n",
        "'year': 2011,\n",
        "'price': 15000,\n",
        "'id': 19},\n",
        "{'mark': 'toyota', 'model': 'camry', 'year': 2002, 'price': 6400, 'id': 20},\n",
        "{'mark': 'bmw', 'model': '7', 'year': 2011, 'price': 15500, 'id': 21},\n",
        "{'mark': 'toyota', 'model': 'camry', 'year': 2012, 'price': 18000, 'id': 22},\n",
        "{'mark': 'toyota', 'model': 'camry', 'year': 2020, 'price': 32000, 'id': 23},\n",
        "{'mark': 'bmw', 'model': '5', 'year': 2005, 'price': 7000, 'id': 24},\n",
        "{'mark': 'nissan',\n",
        "'model': 'qashqai',\n",
        "'year': 2015,\n",
        "'price': 17000,\n",
        "'id': 25},\n",
        "{'mark': 'toyota',\n",
        "'model': 'corolla',\n",
        "'year': 2014,\n",
        "'price': 18500,\n",
        "'id': 26},\n",
        "{'mark': 'toyota', 'model': 'camry', 'year': 2000, 'price': 5800, 'id': 27},\n",
        "{'mark': 'nissan',\n",
        "'model': 'qashqai',\n",
        "'year': 2009,\n",
        "'price': 11000,\n",
        "'id': 28},\n",
        "{'mark': 'bmw', 'model': '5', 'year': 2018, 'price': 19000, 'id': 29}]\n",
        "\n",
        "people = [{\"id\": 1, \"is_male\": True, \"age\": 35},\n",
        "          {\"id\": 2, \"is_male\": True, \"age\": 39},\n",
        "          {\"id\": 3, \"is_male\": False, \"age\": 32},\n",
        "          {\"id\": 4, \"is_male\": True, \"age\": 21},\n",
        "          {\"id\": 5, \"is_male\": False, \"age\": 58},\n",
        "          {\"id\": 6, \"is_male\": False, \"age\": 20},\n",
        "          {\"id\": 7, \"is_male\": True, \"age\": 28},\n",
        "          {\"id\": 8, \"is_male\": False, \"age\": 47},\n",
        "          {\"id\": 9, \"is_male\": True, \"age\": 46},\n",
        "          {\"id\": 10, \"is_male\": True, \"age\": 39},\n",
        "          {\"id\": 11, \"is_male\": False, \"age\": 31},\n",
        "          {\"id\": 12, \"is_male\": True, \"age\": 25},\n",
        "          {\"id\": 13, \"is_male\": False, \"age\": 49},\n",
        "          {\"id\": 14, \"is_male\": False, \"age\": 50},\n",
        "          {\"id\": 15, \"is_male\": True, \"age\": 57},\n",
        "          {\"id\": 16, \"is_male\": False, \"age\": 24},\n",
        "          {\"id\": 17, \"is_male\": True, \"age\": 34},\n",
        "          {\"id\": 18, \"is_male\": True, \"age\": 40},\n",
        "          {\"id\": 19, \"is_male\": False, \"age\": 41},\n",
        "          {\"id\": 20, \"is_male\": True, \"age\": 52},\n",
        "          {\"id\": 21, \"is_male\": False, \"age\": 29},\n",
        "          {\"id\": 22, \"is_male\": True, \"age\": 25},\n",
        "          {\"id\": 23, \"is_male\": False, \"age\": 33},\n",
        "          {\"id\": 24, \"is_male\": True, \"age\": 39},\n",
        "          {\"id\": 25, \"is_male\": True, \"age\": 48},\n",
        "          {\"id\": 26, \"is_male\": False, \"age\": 47},\n",
        "          {\"id\": 27, \"is_male\": False, \"age\": 35},\n",
        "          {\"id\": 28, \"is_male\": False, \"age\": 31},\n",
        "          {\"id\": 29, \"is_male\": True, \"age\": 46}\n",
        "]"
      ],
      "metadata": {
        "id": "Sv2oY4UvPd_-"
      },
      "execution_count": 1,
      "outputs": []
    },
    {
      "cell_type": "code",
      "execution_count": 5,
      "metadata": {
        "colab": {
          "base_uri": "https://localhost:8080/"
        },
        "id": "RIhk8VIUPPMs",
        "outputId": "d418905d-249c-4e8a-8a9a-4281298509cf"
      },
      "outputs": [
        {
          "output_type": "stream",
          "name": "stdout",
          "text": [
            "average age among women: 37\n",
            "average age among men: 38\n"
          ]
        }
      ],
      "source": [
        "# 1) Найти средний возраст мужчин и женщин\n",
        "list_women = [i['age'] for i in people if not i['is_male']]\n",
        "list_men = [i['age'] for i in people if i['is_male']]\n",
        "print(f'average age among women: {sum(list_women) // len(list_women)}')\n",
        "print(f'average age among men: {sum(list_men) // len(list_men)}')"
      ]
    },
    {
      "cell_type": "code",
      "source": [
        "# 2) По каждой модели вывести средний возраст собственника\n",
        "model_total_age = {}\n",
        "model_count = {}\n",
        "people_map = {person['id']: person for person in people)\n",
        "for car in cars:\n",
        "    owner_age = people_map[car['id']]['age']\n",
        "    model = car['model']\n",
        "    if model in model_total_age:\n",
        "        model_total_age[model] += owner_age\n",
        "        model_count[model] += 1\n",
        "    else:\n",
        "        model_total_age[model] = owner_age\n",
        "        model_count[model] = 1\n",
        "average_ages = {model: model_total_age[model] // model_count[model] for model in model_total_age}\n",
        "\n",
        "print(average_ages)\n"
      ],
      "metadata": {
        "colab": {
          "base_uri": "https://localhost:8080/"
        },
        "id": "s1RKAHziQFoA",
        "outputId": "949d000e-c745-4f85-befc-511cbecdc6be"
      },
      "execution_count": 11,
      "outputs": [
        {
          "output_type": "stream",
          "name": "stdout",
          "text": [
            "{'camry': 38, 'qashqai': 41, 'corolla': 36, '7': 28, '5': 45}\n"
          ]
        }
      ]
    },
    {
      "cell_type": "code",
      "source": [
        "# 3) По каждой марке вывести соотношение полов собственников в процентах (60% - 40%)\n",
        "marks = {}\n",
        "people_map = {person['id']: person for person in people}\n",
        "for car in cars:\n",
        "  owner_gender = people_map[car['id']]['is_male']\n",
        "  mark = car['mark']\n",
        "  if mark in marks:\n",
        "    if owner_gender:\n",
        "      marks[mark]['male'] += 1\n",
        "    else:\n",
        "      marks[mark]['female'] += 1\n",
        "  else:\n",
        "    if owner_gender:\n",
        "        marks[mark] = {'mark': mark, 'male': 1, 'female': 0}\n",
        "    else:\n",
        "        marks[mark] = {'mark': mark, 'male': 0, 'female': 1}\n",
        "d = []\n",
        "print('d = [')\n",
        "for mark in marks.values():\n",
        "  men_percentage = round((mark['male'] / (mark['male'] + mark['female'])) * 100)\n",
        "  women_percentage = round((mark['female'] / (mark['male'] + mark['female'])) * 100)\n",
        "  d.append({\"mark\": mark['mark'], \"male\": men_percentage, \"female\": women_percentage})\n",
        "  print('\\t', d[-1])\n",
        "print(']')"
      ],
      "metadata": {
        "colab": {
          "base_uri": "https://localhost:8080/"
        },
        "id": "IoSG4DhxS4Ze",
        "outputId": "016fd1e1-d05d-473e-b732-3da2f60d8408"
      },
      "execution_count": 31,
      "outputs": [
        {
          "output_type": "stream",
          "name": "stdout",
          "text": [
            "d = [\n",
            "\t {'model': 'toyota', 'male': 43, 'female': 57}\n",
            "\t {'model': 'nissan', 'male': 67, 'female': 33}\n",
            "\t {'model': 'bmw', 'male': 56, 'female': 44}\n",
            "]\n"
          ]
        }
      ]
    },
    {
      "cell_type": "code",
      "source": [
        "# 4) По каждой модели вывести соотношение полов собственников в процентах (60% - 40%)\n",
        "models = {}\n",
        "people_map = {person['id']: person for person in people}\n",
        "for car in cars:\n",
        "  owner_gender = people_map[car['id']]['is_male']\n",
        "  model = car['model']\n",
        "  if model in models:\n",
        "    if owner_gender:\n",
        "      models[model]['male'] += 1\n",
        "    else:\n",
        "      models[model]['female'] += 1\n",
        "  else:\n",
        "    if owner_gender:\n",
        "        models[model] = {'model': model, 'male': 1, 'female': 0}\n",
        "    else:\n",
        "        models[model] = {'model': model, 'male': 0, 'female': 1}\n",
        "d = []\n",
        "print('d = [')\n",
        "for model in models.values():\n",
        "  men_percentage = round((model['male'] / (model['male'] + model['female'])) * 100)\n",
        "  women_percentage = round((model['female'] / (model['male'] + model['female'])) * 100)\n",
        "  d.append({\"model\": model['model'], \"male\": men_percentage, \"female\": women_percentage})\n",
        "  print('\\t', d[-1])\n",
        "print(']')"
      ],
      "metadata": {
        "colab": {
          "base_uri": "https://localhost:8080/"
        },
        "id": "wfC-ddZDZzS5",
        "outputId": "eb5d3b53-b58d-4107-ccf9-fbee662278d5"
      },
      "execution_count": 34,
      "outputs": [
        {
          "output_type": "stream",
          "name": "stdout",
          "text": [
            "d = [\n",
            "\t {'model': 'camry', 'male': 44, 'female': 56}\n",
            "\t {'model': 'qashqai', 'male': 67, 'female': 33}\n",
            "\t {'model': 'corolla', 'male': 40, 'female': 60}\n",
            "\t {'model': '7', 'male': 40, 'female': 60}\n",
            "\t {'model': '5', 'male': 75, 'female': 25}\n",
            "]\n"
          ]
        }
      ]
    },
    {
      "cell_type": "code",
      "source": [
        "# 5) Для каждой из возрастных групп (до 25, 25-40, от 40) вывести самые популярные марки (можно по одной, можно топ-2)\n",
        "# {\n",
        "# \"<25\": \"bmw\",\n",
        "# \"25-40\": \"toyota\"\n",
        "# \">40\": \"toyota\"\n",
        "# }\n",
        "under_25 = {'ids': [], 'marks': []}\n",
        "between_25_40 = {'ids': [], 'marks': []}\n",
        "below_40 = {'ids': [], 'marks': []}\n",
        "for person in people:\n",
        "  if person['age'] < 25:\n",
        "    under_25['ids'].append(person['id'])\n",
        "  elif 25 <= person['age'] <= 40:\n",
        "    between_25_40['ids'].append(person['id'])\n",
        "  else:\n",
        "    below_40['ids'].append(person['id'])\n",
        "\n",
        "for car in cars:\n",
        "  if car['id'] in under_25['ids']:\n",
        "    under_25['marks'].append(car['mark'])\n",
        "  elif car['id'] in between_25_40['ids']:\n",
        "    between_25_40['marks'].append(car['mark'])\n",
        "  else:\n",
        "    below_40['marks'].append(car['mark'])\n",
        "# most popular mark for people under 25\n",
        "count_dict = {x: under_25['marks'].count(x) for x in under_25['marks']}\n",
        "print(max(count_dict, key=count_dict.get))\n",
        "# most popular mark for people between 25 and 40\n",
        "count_dict = {x: between_25_40['marks'].count(x) for x in between_25_40['marks']}\n",
        "print(max(count_dict, key=count_dict.get))\n",
        "# most popular mark for people below 40\n",
        "count_dict = {x: below_40['marks'].count(x) for x in below_40['marks']}\n",
        "print(max(count_dict, key=count_dict.get))\n"
      ],
      "metadata": {
        "colab": {
          "base_uri": "https://localhost:8080/"
        },
        "id": "txuUIY7JavB0",
        "outputId": "5de1088e-06ab-444e-9462-fd88cb277ed5"
      },
      "execution_count": 56,
      "outputs": [
        {
          "output_type": "stream",
          "name": "stdout",
          "text": [
            "Most popular mark for people <25: bmw\n",
            "Most popular mark for people 25-40: toyota\n",
            "Most popular mark for people >40: toyota\n"
          ]
        }
      ]
    },
    {
      "cell_type": "code",
      "source": [
        "# more efficient:\n",
        "# Initialize dictionaries to store car marks for each age group\n",
        "age_groups = {'<25': [], '25-40': [], '>40': []}\n",
        "\n",
        "# Iterate through people and cars simultaneously\n",
        "for person, car in zip(people, cars):\n",
        "    # Determine the age group\n",
        "    if person['age'] < 25:\n",
        "        age_group = '<25'\n",
        "    elif 25 <= person['age'] <= 40:\n",
        "        age_group = '25-40'\n",
        "    else:\n",
        "        age_group = '>40'\n",
        "\n",
        "    # Add car mark to the respective age group\n",
        "    age_groups[age_group].append(car['mark'])\n",
        "\n",
        "# Find the most popular mark for each age group\n",
        "for age_group, marks in age_groups.items():\n",
        "    count_dict = {x: marks.count(x) for x in marks}\n",
        "    most_popular = max(count_dict, key=count_dict.get)\n",
        "    print(f\"Most popular mark for people {age_group}: {most_popular}\")\n"
      ],
      "metadata": {
        "colab": {
          "base_uri": "https://localhost:8080/"
        },
        "id": "QIvvMIMFnf3Z",
        "outputId": "4a02afc8-c396-4e0b-fd55-025818524a30"
      },
      "execution_count": 59,
      "outputs": [
        {
          "output_type": "stream",
          "name": "stdout",
          "text": [
            "Most popular mark for people <25: bmw\n",
            "Most popular mark for people 25-40: toyota\n",
            "Most popular mark for people >40: toyota\n"
          ]
        }
      ]
    },
    {
      "cell_type": "code",
      "source": [
        "# 6) Для каждой из возрастных групп (до 25, 25-40, от 40) вывести средний год выпуска их автомобиля\n",
        "age_groups = {'<25': [], '25-40': [], '>40': []}\n",
        "for person, car in zip(people, cars):\n",
        "    if person['age'] < 25:\n",
        "        age_group = '<25'\n",
        "    elif 25 <= person['age'] <= 40:\n",
        "        age_group = '25-40'\n",
        "    else:\n",
        "        age_group = '>40'\n",
        "    age_groups[age_group].append(car['year'])\n",
        "\n",
        "for age_group, years in age_groups.items():\n",
        "  print(f\"Average year of a car manufacture for people {age_group}: {sum(years) // len(years)}\")"
      ],
      "metadata": {
        "colab": {
          "base_uri": "https://localhost:8080/"
        },
        "id": "sBIPgAf2a99w",
        "outputId": "80cd5d55-4299-4bc1-eaf7-8eeb65dd920e"
      },
      "execution_count": 60,
      "outputs": [
        {
          "output_type": "stream",
          "name": "stdout",
          "text": [
            "Average year of car manufacture for people <25: 2011\n",
            "Average year of car manufacture for people 25-40: 2011\n",
            "Average year of car manufacture for people >40: 2013\n"
          ]
        }
      ]
    },
    {
      "cell_type": "code",
      "source": [
        "# 7) Для каждой из возрастных групп (до 25, 25-40, от 40) вывести среднюю стоимость их автомобиля\n",
        "age_groups = {'<25': [], '25-40': [], '>40': []}\n",
        "for person, car in zip(people, cars):\n",
        "    if person['age'] < 25:\n",
        "        age_group = '<25'\n",
        "    elif 25 <= person['age'] <= 40:\n",
        "        age_group = '25-40'\n",
        "    else:\n",
        "        age_group = '>40'\n",
        "    age_groups[age_group].append(car['price'])\n",
        "\n",
        "for age_group, prices in age_groups.items():\n",
        "  print(f\"Average price of a car for people {age_group}: {sum(prices) // len(prices)}\")"
      ],
      "metadata": {
        "colab": {
          "base_uri": "https://localhost:8080/"
        },
        "id": "tKWC3FIhbAy4",
        "outputId": "21318153-2a16-427d-9c64-8764e3d56c59"
      },
      "execution_count": 63,
      "outputs": [
        {
          "output_type": "stream",
          "name": "stdout",
          "text": [
            "Average price of a car for people <25: 14633\n",
            "Average price of a car for people 25-40: 16320\n",
            "Average price of a car for people >40: 17609\n"
          ]
        }
      ]
    }
  ]
}